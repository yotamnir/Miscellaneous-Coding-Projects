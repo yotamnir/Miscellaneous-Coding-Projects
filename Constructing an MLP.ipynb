{
 "cells": [
  {
   "cell_type": "markdown",
   "id": "ba3fb353",
   "metadata": {},
   "source": [
    "# 1. Overview"
   ]
  },
  {
   "cell_type": "markdown",
   "id": "4be27a92",
   "metadata": {},
   "source": [
    "The code here implements a fully-connected feedforward network from scratch. It is based on material covered in the *DeepLearning.AI* [Deep Learning Specialization](https://www.deeplearning.ai/courses/deep-learning-specialization/), and is loosely inspired by the `Keras` neural network implementation for the coding architecture.\n",
    "\n",
    "Capabilities implemented so far:\n",
    "\n",
    "* Layer types:\n",
    "    * Dense (only layer type supported so far)\n",
    "        * Weight initializations:\n",
    "            1. Xavier\n",
    "            2. He\n",
    "        * Batch normalization (option within the layer)\n",
    "* Activation functions:\n",
    "    * ReLU\n",
    "    * Leaky ReLU\n",
    "    * Tanh\n",
    "    * Sigmoid\n",
    "    * Linear (identity)\n",
    "    * Softmax\n",
    "* Loss functions and evaluation metrics:\n",
    "    * Binary cross-entropy (both)\n",
    "    * Categorical cross-entropy (both)\n",
    "    * Mean squared error (both)\n",
    "    * Accuracy (only as an evaluation metric)\n",
    "* Regularization methods:\n",
    "    * L2\n",
    "    * Dropout\n",
    "    * Early stopping\n",
    "* Optimization:\n",
    "    * Mini-batches\n",
    "    * Momentum\n",
    "    * RMSprop\n",
    "    * Adam\n",
    "    * Learning rate decay\n",
    "* Evaluation on a validation set supported\n",
    "* A gradient-checking function to verify the validity of the gradient descent implementation"
   ]
  },
  {
   "cell_type": "markdown",
   "id": "91a1e54f",
   "metadata": {},
   "source": [
    "# 2. Model Construction"
   ]
  },
  {
   "cell_type": "code",
   "execution_count": 1,
   "id": "27a0da54",
   "metadata": {},
   "outputs": [],
   "source": [
    "import numpy as np\n",
    "import pandas as pd\n",
    "import matplotlib.pyplot as plt\n",
    "from sklearn.datasets import make_classification, make_regression\n",
    "from sklearn.model_selection import train_test_split\n",
    "from sklearn.preprocessing import StandardScaler\n",
    "import copy\n",
    "from abc import ABC, abstractmethod"
   ]
  },
  {
   "cell_type": "code",
   "execution_count": 2,
   "id": "3d656e6f",
   "metadata": {
    "scrolled": true
   },
   "outputs": [],
   "source": [
    "# --------------------------------------------\n",
    "#          Activation Functions\n",
    "# --------------------------------------------\n",
    "class Activations(ABC):\n",
    "    @staticmethod\n",
    "    @abstractmethod\n",
    "    def activate(x):\n",
    "        pass\n",
    "    @staticmethod\n",
    "    @abstractmethod\n",
    "    def derivative(x):\n",
    "        pass\n",
    "class relu(Activations):\n",
    "    @staticmethod\n",
    "    def activate(x):\n",
    "        return np.maximum(x, 0)\n",
    "    @staticmethod\n",
    "    def derivative(x):\n",
    "        return np.where(x >= 0, 1, 0)\n",
    "class leakyrelu(Activations):\n",
    "    @staticmethod\n",
    "    def activate(x):\n",
    "        return np.where(x >= 0, x, 0.01*x)\n",
    "    @staticmethod\n",
    "    def derivative(x):\n",
    "        return np.where(x >= 0, 1, 0.01)\n",
    "class sigmoid(Activations):\n",
    "    @staticmethod\n",
    "    def activate(x):\n",
    "        return 1 / (1 + np.exp(-x))\n",
    "    @staticmethod\n",
    "    def derivative(x):\n",
    "        return sigmoid.activate(x) * (1 - sigmoid.activate(x))\n",
    "class tanh(Activations):\n",
    "    @staticmethod\n",
    "    @np.vectorize\n",
    "    def activate(x):\n",
    "        return np.math.tanh(x)\n",
    "    @staticmethod\n",
    "    @np.vectorize\n",
    "    def derivative(x):\n",
    "        return 1 - np.math.tanh(x) ** 2\n",
    "class softmax(Activations):\n",
    "    @staticmethod\n",
    "    def activate(x):\n",
    "        vec = np.exp(x)\n",
    "        return vec / vec.sum(axis = 0)\n",
    "    @staticmethod\n",
    "    def derivative(x):\n",
    "        return softmax.activate(x) * (1 - softmax.activate(x))\n",
    "class linear(Activations):\n",
    "    @staticmethod\n",
    "    def activate(x):\n",
    "        return x\n",
    "    @staticmethod\n",
    "    def derivative(x):\n",
    "        return 1\n",
    "\n",
    "# --------------------------------------------\n",
    "#    Evaluation Metrics and Loss Functions\n",
    "# --------------------------------------------\n",
    "class Metrics(ABC):\n",
    "    @staticmethod\n",
    "    @abstractmethod\n",
    "    def score(y, preds):\n",
    "        pass\n",
    "class LossFunctions(Metrics):\n",
    "    @abstractmethod\n",
    "    def dJdA(self, y, preds):\n",
    "        pass\n",
    "class Accuracy(Metrics):\n",
    "    @staticmethod\n",
    "    def score(y, preds, threshold = 0.5):\n",
    "        return np.mean((preds >= threshold) - y == 0)\n",
    "class BinaryCrossentropy(LossFunctions):\n",
    "    @staticmethod\n",
    "    def score(y, preds):\n",
    "        return -np.mean(y * np.log(preds) + (1 - y) * np.log(1 - preds))\n",
    "    def dJdA(self, y, preds):\n",
    "        return -(y/preds) + (1-y) / (1-preds)\n",
    "class CategoricalCrossentropy(LossFunctions):\n",
    "    @staticmethod\n",
    "    def score(y, preds):\n",
    "        return -(y * np.log(preds)).sum(axis = 1).mean()\n",
    "    def dJdA(self, y, preds):\n",
    "        return -y/preds\n",
    "class MeanSquaredError(LossFunctions):\n",
    "    @staticmethod\n",
    "    def score(y, preds):\n",
    "        return ((y - preds) ** 2).mean()\n",
    "    def dJdA(self, y, preds):\n",
    "        return -2 * (y - preds)\n",
    "\n",
    "# --------------------------------------------\n",
    "#          Optimization Methods\n",
    "# --------------------------------------------\n",
    "class Optimizers(ABC):\n",
    "    @abstractmethod\n",
    "    def _update_accumulators(self, layer):\n",
    "        pass\n",
    "    @abstractmethod\n",
    "    def _gen_update_quantity(self, layer, attr, num_iterations):\n",
    "        pass\n",
    "class GradientDescent(Optimizers):\n",
    "    def __init__(self, momentum = 0.9):\n",
    "        self.momentum = momentum\n",
    "    def _update_accumulators(self, layer):\n",
    "        for param in ['W', 'b', 'gamma', 'beta']:\n",
    "            if hasattr(layer, param):\n",
    "                getattr(layer, param).Vdx -= ((1 - self.momentum)\n",
    "                                                     * (getattr(layer, param).Vdx - getattr(layer, param).d))\n",
    "    def _gen_update_quantity(self, layer, param, num_iterations):\n",
    "        return getattr(layer, param).Vdx\n",
    "class RMSprop(Optimizers):\n",
    "    def __init__(self, beta = 0.999, epsilon = 1e-8):\n",
    "        self.beta = beta\n",
    "        self.epsilon = epsilon\n",
    "    def _update_accumulators(self, layer):\n",
    "        for param in ['W', 'b', 'gamma', 'beta']:\n",
    "            if hasattr(layer, param):\n",
    "                getattr(layer, param).Sdx -= ((1 - self.beta)\n",
    "                                                     * (getattr(layer, param).Sdx - getattr(layer, param).d**2))\n",
    "    def _gen_update_quantity(self, layer, param, num_iterations):\n",
    "        return getattr(layer, param).d / (getattr(layer, param).Sdx ** 0.5 + self.epsilon)\n",
    "class Adam(Optimizers):\n",
    "    def __init__(self, beta_1 = 0.9, beta_2 = 0.999, epsilon = 1e-8):\n",
    "        self.beta_1 = beta_1\n",
    "        self.beta_2 = beta_2\n",
    "        self.epsilon = epsilon\n",
    "    def _update_accumulators(self, layer):\n",
    "        for param in ['W', 'b', 'gamma', 'beta']:\n",
    "            if hasattr(layer, param):\n",
    "                getattr(layer, param).Vdx -= ((1 - self.beta_1)\n",
    "                                                     * (getattr(layer, param).Vdx - getattr(layer, param).d))\n",
    "                getattr(layer, param).Sdx -= ((1 - self.beta_2)\n",
    "                                                     * (getattr(layer, param).Sdx - getattr(layer, param).d**2))\n",
    "    def _gen_update_quantity(self, layer, param, num_iterations):\n",
    "        Vdx_corrected = getattr(layer, param).Vdx / (1 - self.beta_1 ** num_iterations)\n",
    "        Sdx_corrected = getattr(layer, param).Sdx / (1 - self.beta_2 ** num_iterations)\n",
    "        return Vdx_corrected / (Sdx_corrected ** .5 + self.epsilon)\n",
    "\n",
    "# --------------------------------------------\n",
    "#                 Layers\n",
    "# --------------------------------------------\n",
    "class Dense:\n",
    "    \n",
    "    def __init__(self,  shape, activation = linear(), weight_initialization = None, dropout = 0.0,\n",
    "                 batch_normalization = False, epsilon_BN = None):\n",
    "        self.nl = shape[0]\n",
    "        self.activation = activation\n",
    "        self.nl_1 = shape[1]\n",
    "        self.dropout = dropout\n",
    "        self.batch_normalization = batch_normalization\n",
    "        if batch_normalization is True:\n",
    "            if epsilon_BN is None:\n",
    "                self.epsilon_BN = 1e-5\n",
    "            else:\n",
    "                self.epsilon_BN = epsilon_BN\n",
    "        \n",
    "        if weight_initialization in ['Xavier', 'He']:\n",
    "            self.weight_initialization = weight_initialization\n",
    "        elif weight_initialization is None:\n",
    "            self.weight_initialization = self._set_default_initializer(activation)\n",
    "        else:\n",
    "            raise ValueError('Initialization method not supported')\n",
    "        \n",
    "        if self.weight_initialization == 'Xavier':\n",
    "            self.W = self._ParamsAndAccumulators(self._Xavier_initialization(self.nl, self.nl_1))\n",
    "        elif self.weight_initialization == 'He':\n",
    "            self.W = self._ParamsAndAccumulators(self._He_initialization(self.nl, self.nl_1))\n",
    "        \n",
    "        if self.batch_normalization is False:\n",
    "            self.b = self._ParamsAndAccumulators(np.zeros((self.nl,1)))\n",
    "        else:\n",
    "            self.gamma = self._ParamsAndAccumulators(np.ones((self.nl,1)))\n",
    "            self.beta = self._ParamsAndAccumulators(np.zeros((self.nl,1)))\n",
    "            self.population_mu = np.zeros((self.nl,1))\n",
    "            self.population_sigma2 = np.zeros((self.nl,1))\n",
    "            self.population_momentum = 0.99\n",
    "    \n",
    "    def _layer_forwardprop(self, prev_layer, training, X):\n",
    "        if self.batch_normalization is False:\n",
    "            self.Z = self.W.params @ prev_layer.A + self.b.params\n",
    "            self.A = self.activation.activate(self.Z)\n",
    "            if training is True:\n",
    "                inverted_dropout_mask = ((np.random.rand(self.A.shape[0], self.A.shape[1]) > self.dropout)\n",
    "                                               / (1 - self.dropout))\n",
    "                self.A *= inverted_dropout_mask\n",
    "        else:\n",
    "            self._layer_forwardprop_BN(prev_layer, training, X)\n",
    "    \n",
    "    def _layer_backprop(self, X, y, loss, optimizer, prev_layer, next_layer = None):\n",
    "        if self.batch_normalization is False:\n",
    "            if next_layer is None:  # i.e. we're in the output layer\n",
    "                self.dA = loss.dJdA(y.T, self.A)\n",
    "            else:\n",
    "                self.dA = next_layer.W.params.T @ next_layer.dZ\n",
    "            self.dZ = self.dA * self.activation.derivative(self.Z)\n",
    "            self.W.d = (self.dZ @ prev_layer.A.T) / X.shape[0]\n",
    "            self.b.d = self.dZ.mean(axis = 1, keepdims = True)\n",
    "            optimizer._update_accumulators(self)\n",
    "        else:\n",
    "            self._layer_backprop_BN(X, y, loss, optimizer, prev_layer, next_layer)\n",
    "    \n",
    "    def _layer_forwardprop_BN(self, prev_layer, training, X):\n",
    "        self.Z = self.W.params @ prev_layer.A\n",
    "        if training is True:\n",
    "            self.mu = self.Z.mean(axis = 1, keepdims = True)\n",
    "            self.sigma2 = self.Z.var(axis = 1, keepdims = True)\n",
    "            self.population_mu -= (1 - self.population_momentum) * (self.population_mu - self.mu)\n",
    "            self.population_sigma2 -= (1 - self.population_momentum) * (self.population_sigma2 - self.sigma2)\n",
    "        else:\n",
    "            self.mu = self.population_mu\n",
    "            self.sigma2 = self.population_sigma2\n",
    "        self.Znorm = (self.Z - self.mu) / (self.sigma2 + self.epsilon_BN)**0.5\n",
    "        self.Ztilde = self.Znorm * self.gamma.params + self.beta.params\n",
    "        self.A = self.activation.activate(self.Ztilde)\n",
    "        if training is True:\n",
    "            inverted_dropout_mask = ((np.random.rand(self.A.shape[0], self.A.shape[1]) > self.dropout)\n",
    "                                           / (1 - self.dropout))\n",
    "            self.A *= inverted_dropout_mask\n",
    "    \n",
    "    def _layer_backprop_BN(self, X, y, loss, optimizer, prev_layer, next_layer = None):\n",
    "        if next_layer is None:  # i.e. we're in the output layer\n",
    "            self.dA = loss.dJdA(y.T, self.A)\n",
    "        else:\n",
    "            self.dA = next_layer.W.params.T @ next_layer.dZ\n",
    "        self.dZtilde = self.dA * self.activation.derivative(self.Ztilde)\n",
    "        self.dZnorm = self.dZtilde * self.gamma.params\n",
    "        self.dsigma2 = -0.5 * (self.sigma2 + self.epsilon_BN)**(-3/2) * (self.dZnorm * (self.Z - self.mu)).sum(axis = 1, keepdims = True)\n",
    "        self.dmu = - self.dZnorm.sum(axis = 1, keepdims = True) * (self.sigma2 + self.epsilon_BN)**-0.5\n",
    "        self.dZ = (self.dZnorm * (self.sigma2 + self.epsilon_BN)**-0.5\n",
    "                       + self.dsigma2 * 2 * (self.Z - self.mu) / X.shape[0]\n",
    "                       + self.dmu / X.shape[0])\n",
    "        self.gamma.d = (self.dZtilde * self.Znorm).mean(axis = 1, keepdims = True)\n",
    "        self.beta.d = self.dZtilde.mean(axis = 1, keepdims = True)\n",
    "        self.W.d = (self.dZ @ prev_layer.A.T) / X.shape[0]\n",
    "        optimizer._update_accumulators(self)\n",
    "    \n",
    "    def _set_default_initializer(self, activation):\n",
    "        if activation in [relu(), leakyrelu()]:\n",
    "            return 'He'\n",
    "        else:\n",
    "            return 'Xavier'\n",
    "    \n",
    "    def _Xavier_initialization(self, nl, nl_1):\n",
    "        bound = (6 / (nl + nl_1)) ** 0.5\n",
    "        return np.random.uniform(-bound, bound, size = (nl, nl_1))\n",
    "    \n",
    "    def _He_initialization(self, nl, nl_1):\n",
    "        stdev = (2 / nl_1) ** 0.5\n",
    "        return np.random.normal(scale = stdev, size = (nl, nl_1))\n",
    "    \n",
    "    def _initialize_accumulators(self):\n",
    "        pass\n",
    "\n",
    "    class _ParamsAndAccumulators():\n",
    "        def __init__(self, params):\n",
    "            self.params = params\n",
    "            self.Vdx = np.zeros_like(params)\n",
    "            self.Sdx = np.zeros_like(params)"
   ]
  },
  {
   "cell_type": "code",
   "execution_count": 3,
   "id": "23d01bea",
   "metadata": {},
   "outputs": [],
   "source": [
    "class MLP:\n",
    "    \n",
    "    def __init__(self, loss = BinaryCrossentropy(), metric = Accuracy(), restore_best = True, l2_reg = 0.0,\n",
    "                 input_dropout = 0.0, input_normalization = True):\n",
    "        self.layers = []\n",
    "        self.loss = loss\n",
    "        self.metric = metric\n",
    "        self.restore_best = restore_best\n",
    "        self.l2_reg = l2_reg\n",
    "        self.input_dropout = input_dropout\n",
    "        self.input_normalization = input_normalization\n",
    "        if type(loss) not in [BinaryCrossentropy, MeanSquaredError, CategoricalCrossentropy]:\n",
    "            raise ValueError('Loss not currently supported')\n",
    "        if type(metric) not in [Accuracy, BinaryCrossentropy, MeanSquaredError, CategoricalCrossentropy]:\n",
    "            raise ValueError('Metric not currently supported')\n",
    "    \n",
    "    def add(self, layer):\n",
    "        self.layers.append(layer)\n",
    "    \n",
    "    def fit(self, X, y, epochs = 100, batch_size = 32, earlyStopping = None, validation_split = 0.0,\n",
    "            lr = 0.01, decay_rate = 0.1, optimizer = Adam()):\n",
    "        \n",
    "        self.validation_split = validation_split\n",
    "        X_train, X_dev, y_train, y_dev = self._custom_train_test_split(X, y, validation_split)\n",
    "        \n",
    "        if self.input_normalization is True:\n",
    "            self.normalizer = StandardScaler().fit(X_train)\n",
    "        \n",
    "        self.optimizer = optimizer\n",
    "        self.history = self._History()\n",
    "        self.epochs = 0\n",
    "        self.stopper = 0  # increment until the early stopping value\n",
    "        \n",
    "        for i in range(epochs):\n",
    "            self._minibatch_gradientdescent(X, y, batch_size, lr, decay_rate)\n",
    "            self.epochs += 1\n",
    "            self.history.train_score.append(self.score(X_train, y_train))\n",
    "            if validation_split > 0:\n",
    "                self.history.dev_score.append(self.score(X_dev, y_dev))\n",
    "            \n",
    "            self._check_earlyStopping()\n",
    "            if self.restore_best == True:\n",
    "                self._cache_best()\n",
    "            if earlyStopping is not None:\n",
    "                if self.stopper == earlyStopping:\n",
    "                    break\n",
    "                    \n",
    "        del self.stopper\n",
    "        if self.restore_best is True:\n",
    "            self._restore_best_weights()\n",
    "    \n",
    "    def predict(self, X, _training = False):  # training argument for development purposes only\n",
    "        self._net_forwardprop(X, _training)\n",
    "        preds = self.layers[-1].A.T\n",
    "        return preds\n",
    "    \n",
    "    def score(self, X, y):\n",
    "        preds = self.predict(X)\n",
    "        return self.metric.score(y, preds)\n",
    "    \n",
    "    def _custom_train_test_split(self, X, y, validation_split):\n",
    "        if validation_split < 0 or validation_split >= 1:\n",
    "            raise ValueError('Validation split should be in the range [0,1) (0 results in no validation set)')\n",
    "        indices = np.random.permutation(len(X))\n",
    "        train_size = round(len(X) * (1 - validation_split))\n",
    "        self.train_indices = indices[:train_size]\n",
    "        X_train = X[self.train_indices]\n",
    "        y_train = y[self.train_indices]\n",
    "        X_dev = X[indices[train_size:]]\n",
    "        y_dev = y[indices[train_size:]]\n",
    "        return X_train, X_dev, y_train, y_dev\n",
    "    \n",
    "    def _minibatch_gradientdescent(self, X, y, batch_size, lr, decay_rate):\n",
    "        num_batches = np.ceil(len(self.train_indices) / batch_size)\n",
    "        num_iterations = self.epochs * num_batches\n",
    "        for i in np.arange(0, len(self.train_indices), batch_size):\n",
    "            num_iterations += 1\n",
    "            minibatch = self.train_indices[i : (i + batch_size)]\n",
    "            mini_X, mini_y = X[minibatch], y[minibatch]\n",
    "            self._net_forwardprop(mini_X, training = True)\n",
    "            self._net_backprop(mini_X, mini_y)\n",
    "            self._update_params(mini_X.shape[0], lr, decay_rate, num_iterations)\n",
    "    \n",
    "    def _net_forwardprop(self, X, training):\n",
    "        if self.input_normalization is True:\n",
    "            X = self.normalizer.transform(X)\n",
    "        self.layers.insert(0, self._InputLayer(A = X.T, nl = X.shape[1]))\n",
    "        if training is True:\n",
    "            inverted_dropout_mask = ((np.random.rand(X.T.shape[0], X.T.shape[1]) > self.input_dropout)\n",
    "                                           / (1 - self.input_dropout))\n",
    "            self.layers[0].A *= inverted_dropout_mask\n",
    "        for l, layer in enumerate(self.layers[1:], start = 1):\n",
    "            layer._layer_forwardprop(self.layers[l-1], training, X)\n",
    "        self.layers.pop(0)\n",
    "    \n",
    "    def _net_backprop(self, X, y):\n",
    "        if self.input_normalization is True:\n",
    "            X = self.normalizer.transform(X)\n",
    "        self.layers.insert(0, self._InputLayer(A = X.T, nl = X.shape[1]))\n",
    "        # Output layer's gradients and accumulators\n",
    "        self.layers[-1]._layer_backprop(X, y, self.loss, self.optimizer, self.layers[-2], next_layer = None)\n",
    "        # Remaining layers' gradients and accumulators\n",
    "        for l, layer in reversed(list(enumerate(self.layers[:-1]))):\n",
    "            if isinstance(layer, self._InputLayer):\n",
    "                break\n",
    "            layer._layer_backprop(X, y, self.loss, self.optimizer, self.layers[l-1], self.layers[l+1])\n",
    "        self.layers.pop(0)\n",
    "    \n",
    "    def _update_params(self, m, lr, decay_rate, num_iterations):\n",
    "        for layer in self.layers:\n",
    "            decayed_lr = lr / (1 + decay_rate * (self.epochs+1))\n",
    "            for param in ['W', 'b', 'gamma', 'beta']:\n",
    "                if hasattr(layer, param):\n",
    "                    update_quantity = self.optimizer._gen_update_quantity(layer, param, num_iterations)\n",
    "                    if param == 'W':\n",
    "                        regularizer = self.l2_reg / m\n",
    "                    else:\n",
    "                        regularizer = 0\n",
    "                    getattr(layer, param).params -= (decayed_lr *\n",
    "                                                            (update_quantity\n",
    "                                                                 + regularizer * getattr(layer, param).params))\n",
    "    \n",
    "    def _check_earlyStopping(self):\n",
    "        eval_fn = max if type(self.metric) in [Accuracy] else min\n",
    "        if self.validation_split > 0:\n",
    "            if self.history.dev_score[-1] == eval_fn(self.history.dev_score):\n",
    "                self.stopper = 0\n",
    "            else:\n",
    "                self.stopper += 1\n",
    "        else:\n",
    "            if self.history.train_score[-1] == eval_fn(self.history.train_score):\n",
    "                self.stopper = 0\n",
    "            else:\n",
    "                self.stopper += 1\n",
    "    \n",
    "    def _cache_best(self):\n",
    "        if self.stopper == 0:\n",
    "            for l, layer in enumerate(self.layers):\n",
    "                self.history.best_params[l] = {}\n",
    "                for param in ['W', 'b', 'gamma', 'beta']:\n",
    "                    if hasattr(layer, param):\n",
    "                        self.history.best_params[l][param] = getattr(layer, param).params\n",
    "            if self.validation_split > 0:\n",
    "                self.history.best_score = self.history.dev_score[-1]\n",
    "            else:\n",
    "                self.history.best_score = self.history.train_score[-1]\n",
    "    \n",
    "    def _restore_best_weights(self):\n",
    "        for l, layer in enumerate(self.layers):\n",
    "            for param in ['W', 'b', 'gamma', 'beta']:\n",
    "                if hasattr(layer, param):\n",
    "                    getattr(layer, param).params = self.history.best_params[l][param]\n",
    "    \n",
    "    class _InputLayer:\n",
    "        def __init__(self, A, nl):\n",
    "            self.A = A\n",
    "            self.nl = nl\n",
    "    \n",
    "    class _History:\n",
    "        def __init__(self, train_score = None, dev_score = None, best_params = None):\n",
    "            if train_score is None:\n",
    "                self.train_score = []\n",
    "            if dev_score is None:\n",
    "                self.dev_score = []\n",
    "            if best_params is None:\n",
    "                self.best_params = {}"
   ]
  },
  {
   "cell_type": "markdown",
   "id": "65f8c9a9",
   "metadata": {},
   "source": [
    "# 3. Gradient Checking"
   ]
  },
  {
   "cell_type": "code",
   "execution_count": 4,
   "id": "14680cd5",
   "metadata": {},
   "outputs": [],
   "source": [
    "def J(X, y, model, _training):\n",
    "    yhat = model.predict(X, _training)\n",
    "    base_loss = model.loss.score(y, yhat)\n",
    "    reg_loss = sum([(layer.W.params**2).sum() for layer in model.layers]) * (model.l2_reg / (2*X.shape[0]))\n",
    "    return base_loss + reg_loss\n",
    "\n",
    "def gradient_approx(X, y, model, l, param, index, _training, epsilon=1e-7):\n",
    "    tmp_model = copy.deepcopy(model)\n",
    "    getattr(tmp_model.layers[l], param).params[index] += epsilon\n",
    "    J1 = J(X, y, tmp_model, _training)\n",
    "    getattr(tmp_model.layers[l], param).params[index] -= 2*epsilon\n",
    "    J2 = J(X, y, tmp_model, _training)\n",
    "    return (J1 - J2) / (2*epsilon)\n",
    "\n",
    "def gradient_checking(X, y, model):\n",
    "    results = []\n",
    "    \n",
    "    if sum([isinstance(layer.activation, softmax) for layer in model.layers]):  # i.e. if there exists a softmax layer\n",
    "        raise Exception('Softmax not currently supported by this gradient checking implementation')\n",
    "    if sum([layer.batch_normalization for layer in model.layers]) > 0:  # i.e., there exists a BN layer, and then we\n",
    "                                                                        # don't want the averaged mus and sigmas\n",
    "        training = True\n",
    "        if sum([layer.dropout for layer in model.layers]) + model.input_dropout:\n",
    "            raise Exception('Gradient checking not supported with both a batch norm layer and dropout together')\n",
    "    else:\n",
    "        training = False\n",
    "    model._net_forwardprop(X, training = training)\n",
    "    model._net_backprop(X, y)\n",
    "    \n",
    "    for l, layer in enumerate(model.layers):\n",
    "        for index, dw in np.ndenumerate(layer.W.d):\n",
    "            approximation = gradient_approx(X, y, model, l, 'W', index, _training=training)\n",
    "            results.append([l,\n",
    "                            'W',\n",
    "                            index,\n",
    "                            dw + layer.W.params[index] * (model.l2_reg / X.shape[0]),\n",
    "                            approximation])\n",
    "        \n",
    "        for param in ['b', 'gamma', 'beta']:\n",
    "            if hasattr(layer, param):\n",
    "                for index, d in np.ndenumerate(getattr(layer, param).d):\n",
    "                    approximation = gradient_approx(X, y, model, l, param, index, _training=training)\n",
    "                    results.append([l, param, index, d, approximation])\n",
    "\n",
    "    results = pd.DataFrame(results, columns = ['Layer', 'Param', 'Index', 'dtheta', 'dtheta_approx'])\n",
    "    results['Difference'] = results['dtheta'] - results['dtheta_approx']\n",
    "    \n",
    "    normalized_distance = (np.linalg.norm(results['dtheta'] - results['dtheta_approx'])\n",
    "                            / (np.linalg.norm(results['dtheta']) + np.linalg.norm(results['dtheta_approx'])))\n",
    "    \n",
    "    return normalized_distance"
   ]
  },
  {
   "cell_type": "markdown",
   "id": "9b0dc986",
   "metadata": {},
   "source": [
    "# 4. Classification and Regression Implementations"
   ]
  },
  {
   "cell_type": "markdown",
   "id": "0d124cef",
   "metadata": {},
   "source": [
    "### Classification"
   ]
  },
  {
   "cell_type": "code",
   "execution_count": 5,
   "id": "62bd2abe",
   "metadata": {},
   "outputs": [],
   "source": [
    "X, y = make_classification(\n",
    "    #random_state=42,   # Random seed for reproducibility\n",
    "    n_samples=1000,   # Number of samples\n",
    "    n_features=80,    # Number of features\n",
    "    n_informative=50, # Number of informative features\n",
    "    n_redundant=30,   # Number of redundant features\n",
    "    n_classes=2,      # Number of classes\n",
    "    flip_y=0.2,       # Fraction of samples whose class is assigned randomly\n",
    ")\n",
    "y = y.reshape(-1,1)\n",
    "\n",
    "X_train, X_test, y_train, y_test = train_test_split(X, y, test_size = 0.1, shuffle = True)"
   ]
  },
  {
   "cell_type": "code",
   "execution_count": 6,
   "id": "176b2ccc",
   "metadata": {},
   "outputs": [
    {
     "name": "stdout",
     "output_type": "stream",
     "text": [
      "Epochs: 108\n"
     ]
    }
   ],
   "source": [
    "model = MLP(l2_reg = 0.5, input_dropout=0.0)\n",
    "model.add(Dense((32, 80), relu(), dropout=0.0, batch_normalization = True))\n",
    "model.add(Dense((16, 32), leakyrelu(), dropout=0.0, batch_normalization = False))\n",
    "model.add(Dense((4, 16), tanh(), dropout=0.0, batch_normalization = False))\n",
    "model.add(Dense((1, 4), sigmoid()))\n",
    "\n",
    "model.fit(X_train, y_train,\n",
    "          epochs=1000,\n",
    "          earlyStopping=20,\n",
    "          validation_split = 1/9,\n",
    "          lr = 0.001, decay_rate = 0.15)\n",
    "print('Epochs:', model.epochs)"
   ]
  },
  {
   "cell_type": "code",
   "execution_count": 7,
   "id": "a041b444",
   "metadata": {
    "scrolled": false
   },
   "outputs": [
    {
     "name": "stdout",
     "output_type": "stream",
     "text": [
      "Train score: 0.95\n",
      "Dev score:   0.88\n",
      "Test score:  0.85\n"
     ]
    }
   ],
   "source": [
    "print('Train score:', round(max(model.history.train_score), 3))\n",
    "print('Dev score:  ', model.history.best_score)\n",
    "print('Test score: ', model.score(X_test, y_test))"
   ]
  },
  {
   "cell_type": "code",
   "execution_count": 8,
   "id": "a94c96b0",
   "metadata": {},
   "outputs": [
    {
     "data": {
      "image/png": "[encoded data removed]",
      "text/plain": [
       "<Figure size 640x480 with 1 Axes>"
      ]
     },
     "metadata": {},
     "output_type": "display_data"
    }
   ],
   "source": [
    "plt.plot(range(len(model.history.train_score)), model.history.train_score, label = 'train score')\n",
    "plt.plot(range(len(model.history.dev_score)), model.history.dev_score, label = 'dev score')\n",
    "plt.legend()\n",
    "plt.show()"
   ]
  },
  {
   "cell_type": "code",
   "execution_count": 9,
   "id": "13e445a4",
   "metadata": {
    "scrolled": true
   },
   "outputs": [
    {
     "data": {
      "text/plain": [
       "1.541541589002166e-08"
      ]
     },
     "execution_count": 9,
     "metadata": {},
     "output_type": "execute_result"
    }
   ],
   "source": [
    "gradient_checking(X_train[:50], y_train[:50], model)"
   ]
  },
  {
   "cell_type": "markdown",
   "id": "7fa55fa2",
   "metadata": {},
   "source": [
    "### Regression"
   ]
  },
  {
   "cell_type": "code",
   "execution_count": 10,
   "id": "b605678a",
   "metadata": {},
   "outputs": [],
   "source": [
    "X, y = make_regression(\n",
    "    #random_state=42,   # Random seed for reproducibility\n",
    "    n_samples=1000,   # Number of samples\n",
    "    n_features=80,    # Number of features\n",
    "    n_informative=50, # Number of informative features\n",
    "    noise=0.1         # SD of the gaussian noise applied to the output\n",
    ")\n",
    "y = y.reshape(-1,1)\n",
    "\n",
    "#y = np.column_stack((y, y + 100 + X[:,1] * 30 - X[:,2] * 40 - X[:,3] ** 2))\n",
    "X_train, X_test, y_train, y_test = train_test_split(X, y, test_size = 0.1, shuffle = True)"
   ]
  },
  {
   "cell_type": "code",
   "execution_count": 11,
   "id": "f74cdebe",
   "metadata": {
    "scrolled": true
   },
   "outputs": [
    {
     "name": "stdout",
     "output_type": "stream",
     "text": [
      "Epochs: 32\n"
     ]
    }
   ],
   "source": [
    "model = MLP(l2_reg = 1, loss = MeanSquaredError(), metric = MeanSquaredError())\n",
    "model.add(Dense((32, 80), relu(), batch_normalization = True))\n",
    "model.add(Dense((16, 32), leakyrelu()))\n",
    "model.add(Dense((4, 16), leakyrelu()))\n",
    "model.add(Dense((1, 4)))\n",
    "\n",
    "model.fit(X_train, y_train,\n",
    "          epochs=1000,\n",
    "          earlyStopping=20,\n",
    "          validation_split = 1/9,\n",
    "          lr = 0.01,)\n",
    "print('Epochs:', model.epochs)"
   ]
  },
  {
   "cell_type": "code",
   "execution_count": 12,
   "id": "e931977d",
   "metadata": {
    "scrolled": true
   },
   "outputs": [
    {
     "name": "stdout",
     "output_type": "stream",
     "text": [
      "Train score: 1256.378\n",
      "Dev score:   1836.2209195676594\n",
      "Test score:  2582.1971402956733\n"
     ]
    }
   ],
   "source": [
    "print('Train score:', round(min(model.history.train_score), 3))\n",
    "print('Dev score:  ', model.history.best_score)\n",
    "print('Test score: ', model.score(X_test, y_test))"
   ]
  },
  {
   "cell_type": "code",
   "execution_count": 13,
   "id": "1ff54ab2",
   "metadata": {},
   "outputs": [
    {
     "data": {
      "image/png": "[encoded data removed]",
      "text/plain": [
       "<Figure size 640x480 with 1 Axes>"
      ]
     },
     "metadata": {},
     "output_type": "display_data"
    }
   ],
   "source": [
    "plt.plot(range(len(model.history.train_score)), model.history.train_score, label = 'train score')\n",
    "plt.plot(range(len(model.history.dev_score)), model.history.dev_score, label = 'dev score')\n",
    "plt.legend()\n",
    "plt.show()"
   ]
  },
  {
   "cell_type": "code",
   "execution_count": 14,
   "id": "70da498a",
   "metadata": {},
   "outputs": [
    {
     "data": {
      "text/plain": [
       "7.123840429095005e-09"
      ]
     },
     "execution_count": 14,
     "metadata": {},
     "output_type": "execute_result"
    }
   ],
   "source": [
    "gradient_checking(X_train[:50], y_train[:50], model)"
   ]
  },
  {
   "cell_type": "markdown",
   "id": "9a5d67cc",
   "metadata": {},
   "source": [
    "### Multiclass Classification"
   ]
  },
  {
   "cell_type": "code",
   "execution_count": 20,
   "id": "ec0ca1e1",
   "metadata": {},
   "outputs": [],
   "source": [
    "X, y = make_classification(\n",
    "    #random_state=42,   # Random seed for reproducibility\n",
    "    n_samples=1000,   # Number of samples\n",
    "    n_features=80,    # Number of features\n",
    "    n_informative=50, # Number of informative features\n",
    "    n_redundant=30,   # Number of redundant features\n",
    "    n_classes=3,      # Number of classes\n",
    "    flip_y=0.1,       # Fraction of samples whose class is assigned randomly\n",
    ")\n",
    "y = np.column_stack((y==0, y==1, y==2)).astype(int)\n",
    "\n",
    "X_train, X_test, y_train, y_test = train_test_split(X, y, test_size = 0.1, shuffle = True)"
   ]
  },
  {
   "cell_type": "code",
   "execution_count": 21,
   "id": "54e8dba8",
   "metadata": {},
   "outputs": [
    {
     "name": "stdout",
     "output_type": "stream",
     "text": [
      "Epochs: 35\n"
     ]
    }
   ],
   "source": [
    "model = MLP(l2_reg = 0.5, input_dropout=0.0, loss = CategoricalCrossentropy(), metric = CategoricalCrossentropy())\n",
    "model.add(Dense((64, 80), relu(), dropout=0.0, batch_normalization = True))\n",
    "model.add(Dense((32, 64), leakyrelu(), dropout=0.0, batch_normalization = True))\n",
    "model.add(Dense((8, 32), tanh(), dropout=0.0, batch_normalization = True))\n",
    "model.add(Dense((3, 8), softmax()))\n",
    "\n",
    "model.fit(X_train, y_train,\n",
    "          epochs=1000,\n",
    "          earlyStopping=20,\n",
    "          validation_split = 1/9,\n",
    "          lr = 0.001, decay_rate = 0.15)\n",
    "print('Epochs:', model.epochs)"
   ]
  },
  {
   "cell_type": "code",
   "execution_count": 22,
   "id": "254a737a",
   "metadata": {
    "scrolled": true
   },
   "outputs": [
    {
     "name": "stdout",
     "output_type": "stream",
     "text": [
      "Train score: 0.297\n",
      "Dev score:   0.7639834876033373\n",
      "Test score:  0.8424153296868668\n"
     ]
    }
   ],
   "source": [
    "print('Train score:', round(min(model.history.train_score), 3))\n",
    "print('Dev score:  ', model.history.best_score)\n",
    "print('Test score: ', model.score(X_test, y_test))"
   ]
  },
  {
   "cell_type": "code",
   "execution_count": 23,
   "id": "b2eee365",
   "metadata": {},
   "outputs": [
    {
     "data": {
      "image/png": "[encoded data removed]",
      "text/plain": [
       "<Figure size 640x480 with 1 Axes>"
      ]
     },
     "metadata": {},
     "output_type": "display_data"
    }
   ],
   "source": [
    "plt.plot(range(len(model.history.train_score)), model.history.train_score, label = 'train score')\n",
    "plt.plot(range(len(model.history.dev_score)), model.history.dev_score, label = 'dev score')\n",
    "plt.legend()\n",
    "plt.show()"
   ]
  },
  {
   "cell_type": "code",
   "execution_count": 24,
   "id": "8d080f13",
   "metadata": {},
   "outputs": [
    {
     "name": "stdout",
     "output_type": "stream",
     "text": [
      "Correct train set classifications: 91.0%\n",
      "Correct dev set classifications:   74.0%\n",
      "Correct test set classifications:  72.0%\n"
     ]
    }
   ],
   "source": [
    "train_preds = model.predict(X_train[model.train_indices])\n",
    "dev_preds = model.predict(X_train[~np.isin(np.arange(X_train.shape[0]), model.train_indices)])\n",
    "test_preds = model.predict(X_test)\n",
    "print(f'Correct train set classifications: {(((train_preds == train_preds.max(axis = 1).reshape(-1,1)) == y_train[model.train_indices]).sum(axis = 1) == 3).mean()*100}%')\n",
    "print(f'Correct dev set classifications:   {(((dev_preds == dev_preds.max(axis = 1).reshape(-1,1)) == y_train[~np.isin(np.arange(X_train.shape[0]), model.train_indices)]).sum(axis = 1) == 3).mean()*100}%')\n",
    "print(f'Correct test set classifications:  {(((test_preds == test_preds.max(axis = 1).reshape(-1,1)) == y_test).sum(axis = 1) == 3).mean()*100}%')"
   ]
  },
  {
   "cell_type": "markdown",
   "id": "dcff498f",
   "metadata": {},
   "source": [
    "Gradient checking function currently not compatible with softmax activations."
   ]
  }
 ],
 "metadata": {
  "kernelspec": {
   "display_name": "Python 3 (ipykernel)",
   "language": "python",
   "name": "python3"
  },
  "language_info": {
   "codemirror_mode": {
    "name": "ipython",
    "version": 3
   },
   "file_extension": ".py",
   "mimetype": "text/x-python",
   "name": "python",
   "nbconvert_exporter": "python",
   "pygments_lexer": "ipython3",
   "version": "3.9.7"
  }
 },
 "nbformat": 4,
 "nbformat_minor": 5
}
