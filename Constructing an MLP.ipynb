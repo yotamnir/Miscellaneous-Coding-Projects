{
 "cells": [
  {
   "cell_type": "markdown",
   "id": "ba3fb353",
   "metadata": {},
   "source": [
    "# 1. Overview"
   ]
  },
  {
   "cell_type": "markdown",
   "id": "4be27a92",
   "metadata": {},
   "source": [
    "The code here implements a fully-connected feedforward network from scratch. It is based on material covered in the *DeepLearning.AI* [Deep Learning Specialization](https://www.deeplearning.ai/courses/deep-learning-specialization/), and is loosely inspired by the `Keras` neural network implementation for the coding architecture.\n",
    "\n",
    "Capabilities implemented so far:\n",
    "\n",
    "* Layer types:\n",
    "    * Dense (only layer type supported so far)\n",
    "        * Weight initializations:\n",
    "            1. Xavier\n",
    "            2. He\n",
    "* Activation functions:\n",
    "    * ReLU\n",
    "    * Leaky ReLU\n",
    "    * Tanh\n",
    "    * Sigmoid\n",
    "    * Linear (identity)\n",
    "* Loss functions and evaluation metrics:\n",
    "    * Binary cross-entropy (both)\n",
    "    * Mean squared error (both)\n",
    "    * Accuracy (only as an evaluation metric)\n",
    "* Regularization methods:\n",
    "    * L2\n",
    "    * Dropout\n",
    "    * Early stopping\n",
    "* Optimization:\n",
    "    * Mini-batches\n",
    "    * Momentum\n",
    "    * RMSprop\n",
    "    * Adam\n",
    "    * Learning rate decay\n",
    "* Evaluation on a validation set supported\n",
    "* A gradient-checking function to verify the validity of the gradient descent implementation"
   ]
  },
  {
   "cell_type": "markdown",
   "id": "91a1e54f",
   "metadata": {},
   "source": [
    "# 2. Model Construction"
   ]
  },
  {
   "cell_type": "code",
   "execution_count": 1,
   "id": "27a0da54",
   "metadata": {},
   "outputs": [],
   "source": [
    "import numpy as np\n",
    "import pandas as pd\n",
    "import matplotlib.pyplot as plt\n",
    "from sklearn.datasets import make_classification, make_regression\n",
    "from sklearn.model_selection import train_test_split\n",
    "from sklearn.preprocessing import StandardScaler\n",
    "import copy\n",
    "from abc import ABC, abstractmethod"
   ]
  },
  {
   "cell_type": "code",
   "execution_count": 2,
   "id": "3d656e6f",
   "metadata": {},
   "outputs": [],
   "source": [
    "# --------------------------------------------\n",
    "#          Activation Functions\n",
    "# --------------------------------------------\n",
    "class Activations(ABC):\n",
    "    @staticmethod\n",
    "    @abstractmethod\n",
    "    def activate(x):\n",
    "        pass\n",
    "    @staticmethod\n",
    "    @abstractmethod\n",
    "    def derivative(x):\n",
    "        pass\n",
    "class relu(Activations):\n",
    "    @staticmethod\n",
    "    def activate(x):\n",
    "        return np.maximum(x, 0)\n",
    "    @staticmethod\n",
    "    def derivative(x):\n",
    "        return np.where(x >= 0, 1, 0)\n",
    "class leakyrelu(Activations):\n",
    "    @staticmethod\n",
    "    def activate(x):\n",
    "        return np.where(x >= 0, x, 0.01*x)\n",
    "    @staticmethod\n",
    "    def derivative(x):\n",
    "        return np.where(x >= 0, 1, 0.01)\n",
    "class sigmoid(Activations):\n",
    "    @staticmethod\n",
    "    def activate(x):\n",
    "        return 1 / (1 + np.exp(-x))\n",
    "    @staticmethod\n",
    "    def derivative(x):\n",
    "        return sigmoid.activate(x) * (1 - sigmoid.activate(x))\n",
    "class tanh(Activations):\n",
    "    @staticmethod\n",
    "    @np.vectorize\n",
    "    def activate(x):\n",
    "        return np.math.tanh(x)\n",
    "    @staticmethod\n",
    "    @np.vectorize\n",
    "    def derivative(x):\n",
    "        return 1 - np.math.tanh(x) ** 2\n",
    "class linear(Activations):\n",
    "    @staticmethod\n",
    "    def activate(x):\n",
    "        return x\n",
    "    @staticmethod\n",
    "    def derivative(x):\n",
    "        return 1\n",
    "\n",
    "# --------------------------------------------\n",
    "#                 Layers\n",
    "# --------------------------------------------\n",
    "class Dense:\n",
    "    \n",
    "    def __init__(self,  shape, activation = linear(), weight_initialization = None, dropout = 0.0):\n",
    "        self.nl = shape[0]\n",
    "        self.activation = activation\n",
    "        self.nl_1 = shape[1]\n",
    "        self.dropout = dropout\n",
    "        \n",
    "        if weight_initialization in ['Xavier', 'He']:\n",
    "            self.weight_initialization = weight_initialization\n",
    "        elif weight_initialization is None:\n",
    "            self.weight_initialization = self._set_default_initializer(activation)\n",
    "        else:\n",
    "            raise ValueError('Initialization method not supported')\n",
    "        \n",
    "        if self.weight_initialization == 'Xavier':\n",
    "            self.W = self._Xavier_initialization(self.nl, self.nl_1)\n",
    "        elif self.weight_initialization == 'He':\n",
    "            self.W = self._He_initialization(self.nl, self.nl_1)\n",
    "        self.b = np.zeros(self.nl).reshape(self.nl, 1)\n",
    "        \n",
    "        self.VdW = np.zeros_like(self.W)\n",
    "        self.Vdb = np.zeros_like(self.b)\n",
    "        self.SdW = np.zeros_like(self.W)\n",
    "        self.Sdb = np.zeros_like(self.b)\n",
    "    \n",
    "    def _set_default_initializer(self, activation):\n",
    "        if activation in [relu(), leakyrelu()]:\n",
    "            return 'He'\n",
    "        else:\n",
    "            return 'Xavier'\n",
    "    \n",
    "    def _Xavier_initialization(self, nl, nl_1):\n",
    "        bound = (6 / (nl + nl_1)) ** 0.5\n",
    "        return np.random.uniform(-bound, bound, size = (nl, nl_1))\n",
    "    \n",
    "    def _He_initialization(self, nl, nl_1):\n",
    "        stdev = (2 / nl_1) ** 0.5\n",
    "        return np.random.normal(scale = stdev, size = (nl, nl_1))\n",
    "\n",
    "# --------------------------------------------\n",
    "#    Evaluation Metrics and Loss Functions\n",
    "# --------------------------------------------\n",
    "class Metrics(ABC):\n",
    "    @staticmethod\n",
    "    @abstractmethod\n",
    "    def score(y, preds):\n",
    "        pass\n",
    "class LossFunctions(Metrics):\n",
    "    @abstractmethod\n",
    "    def dJdA(self, y, preds):\n",
    "        pass\n",
    "class Accuracy(Metrics):\n",
    "    @staticmethod\n",
    "    def score(y, preds, threshold = 0.5):\n",
    "        return (np.mean((preds >= threshold) - y == 0))\n",
    "class BinaryCrossentropy(LossFunctions):\n",
    "    @staticmethod\n",
    "    def score(y, preds):\n",
    "        return -np.mean(y * np.log(preds) + (1 - y) * np.log(1 - preds))\n",
    "    def dJdA(self, y, preds):\n",
    "        return -(y/preds) + (1-y) / (1-preds)\n",
    "class MeanSquaredError(LossFunctions):\n",
    "    @staticmethod\n",
    "    def score(y, preds):\n",
    "        return ((y - preds) ** 2).mean()\n",
    "    def dJdA(self, y, preds):\n",
    "        return -2 * (y - preds)\n",
    "\n",
    "# --------------------------------------------\n",
    "#          Optimization Methods\n",
    "# --------------------------------------------\n",
    "class Optimizers(ABC):\n",
    "    @abstractmethod\n",
    "    def _update_accumulators(self, layer):\n",
    "        pass\n",
    "    @abstractmethod\n",
    "    def _gen_update_quantity(self, layer, attr, num_iterations):\n",
    "        pass\n",
    "class GradientDescent(Optimizers):\n",
    "    def __init__(self, momentum = 0.9):\n",
    "        self.momentum = momentum\n",
    "    def _update_accumulators(self, layer):\n",
    "        layer.VdW = self.momentum * layer.VdW + (1 - self.momentum) * layer.dW\n",
    "        layer.Vdb = self.momentum * layer.Vdb + (1 - self.momentum) * layer.db\n",
    "    def _gen_update_quantity(self, layer, attr, num_iterations):\n",
    "        if attr == 'W':\n",
    "            return layer.VdW\n",
    "        if attr == 'b':\n",
    "            return layer.Vdb\n",
    "class RMSprop(Optimizers):\n",
    "    def __init__(self, beta = 0.999, epsilon = 1e-8):\n",
    "        self.beta = beta\n",
    "        self.epsilon = epsilon\n",
    "    def _update_accumulators(self, layer):\n",
    "        layer.SdW = self.beta * layer.SdW + (1 - self.beta) * layer.dW**2\n",
    "        layer.Sdb = self.beta * layer.Sdb + (1 - self.beta) * layer.db**2\n",
    "    def _gen_update_quantity(self, layer, attr, num_iterations):\n",
    "        if attr == 'W':\n",
    "            return layer.dW / (layer.SdW ** .5 + self.epsilon)\n",
    "        if attr == 'b':\n",
    "            return layer.db / (layer.Sdb ** .5 + self.epsilon)\n",
    "class Adam(Optimizers):\n",
    "    def __init__(self, beta_1 = 0.9, beta_2 = 0.999, epsilon = 1e-8):\n",
    "        self.beta_1 = beta_1\n",
    "        self.beta_2 = beta_2\n",
    "        self.epsilon = epsilon\n",
    "    def _update_accumulators(self, layer):\n",
    "        layer.VdW = self.beta_1 * layer.VdW + (1 - self.beta_1) * layer.dW\n",
    "        layer.Vdb = self.beta_1 * layer.Vdb + (1 - self.beta_1) * layer.db\n",
    "        layer.SdW = self.beta_2 * layer.SdW + (1 - self.beta_2) * layer.dW**2\n",
    "        layer.Sdb = self.beta_2 * layer.Sdb + (1 - self.beta_2) * layer.db**2\n",
    "    def _gen_update_quantity(self, layer, attr, num_iterations):\n",
    "        if attr == 'W':\n",
    "            VdW_corrected = layer.VdW / (1 - self.beta_1 ** num_iterations)\n",
    "            SdW_corrected = layer.SdW / (1 - self.beta_2 ** num_iterations)\n",
    "            return VdW_corrected / (SdW_corrected ** .5 + self.epsilon)\n",
    "        if attr == 'b':\n",
    "            Vdb_corrected = layer.Vdb / (1 - self.beta_1 ** num_iterations)\n",
    "            Sdb_corrected = layer.Sdb / (1 - self.beta_2 ** num_iterations)\n",
    "            return Vdb_corrected / (Sdb_corrected ** .5 + self.epsilon)"
   ]
  },
  {
   "cell_type": "code",
   "execution_count": 3,
   "id": "23d01bea",
   "metadata": {},
   "outputs": [],
   "source": [
    "class MLP:\n",
    "    \n",
    "    def __init__(self, loss = BinaryCrossentropy(), metric = Accuracy(), restore_best = True, l2_reg = 0.0,\n",
    "                 input_dropout = 0.0, input_normalization = True):\n",
    "        self.layers = []\n",
    "        self.loss = loss\n",
    "        self.metric = metric\n",
    "        self.restore_best = restore_best\n",
    "        self.l2_reg = l2_reg\n",
    "        self.input_dropout = input_dropout\n",
    "        self.input_normalization = input_normalization\n",
    "        if type(loss) not in [BinaryCrossentropy, MeanSquaredError]:\n",
    "            raise ValueError('Loss not currently supported')\n",
    "        if type(metric) not in [Accuracy, BinaryCrossentropy, MeanSquaredError]:\n",
    "            raise ValueError('Metric not currently supported')\n",
    "    \n",
    "    def add(self, layer):\n",
    "        self.layers.append(layer)\n",
    "    \n",
    "    def fit(self, X, y, epochs = 100, batch_size = 32, earlyStopping = None, validation_split = 0.0,\n",
    "            lr = 0.01, decay_rate = 1, optimizer = Adam()):\n",
    "        \n",
    "        self.validation_split = validation_split\n",
    "        X_train, X_dev, y_train, y_dev = self._custom_train_test_split(X, y, validation_split)\n",
    "        \n",
    "        if self.input_normalization is True:\n",
    "            self.normalizer = StandardScaler().fit(X_train)\n",
    "        \n",
    "        self.optimizer = optimizer\n",
    "        self.history = self._History()\n",
    "        self.epochs = 0\n",
    "        self.stopper = 0  # increment until the early stopping value\n",
    "        \n",
    "        for i in range(epochs):\n",
    "            self._minibatch_gradientdescent(X, y, batch_size, lr, decay_rate)\n",
    "            self.epochs += 1\n",
    "            self.history.train_score.append(self.score(X_train, y_train))\n",
    "            if validation_split > 0:\n",
    "                self.history.dev_score.append(self.score(X_dev, y_dev))\n",
    "            \n",
    "            self._check_earlyStopping()\n",
    "            if self.restore_best == True:\n",
    "                self._cache_best()\n",
    "            if earlyStopping is not None:\n",
    "                if self.stopper == earlyStopping:\n",
    "                    break\n",
    "                    \n",
    "        del self.stopper\n",
    "        if self.restore_best is True:\n",
    "            self._restore_best_weights()\n",
    "    \n",
    "    def predict(self, X):\n",
    "        self._forwardprop(X, training = False)\n",
    "        preds = self.layers[-1].A\n",
    "        return preds\n",
    "    \n",
    "    def score(self, X, y):\n",
    "        preds = self.predict(X)\n",
    "        return self.metric.score(y, preds)\n",
    "    \n",
    "    def _custom_train_test_split(self, X, y, validation_split):\n",
    "        if validation_split < 0 or validation_split >= 1:\n",
    "            raise ValueError('Validation split should be in the range [0,1) (0 results in no validation set)')\n",
    "        indices = np.random.permutation(len(X))\n",
    "        train_size = round(len(X) * (1 - validation_split))\n",
    "        self.train_indices = indices[:train_size]\n",
    "        X_train = X[self.train_indices]\n",
    "        y_train = y[self.train_indices]\n",
    "        X_dev = X[indices[train_size:]]\n",
    "        y_dev = y[indices[train_size:]]\n",
    "        return X_train, X_dev, y_train, y_dev\n",
    "    \n",
    "    def _minibatch_gradientdescent(self, X, y, batch_size, lr, decay_rate):\n",
    "        num_batches = np.ceil(len(self.train_indices) / batch_size)\n",
    "        num_iterations = self.epochs * num_batches\n",
    "        for i in np.arange(0, len(self.train_indices), batch_size):\n",
    "            num_iterations += 1\n",
    "            minibatch = self.train_indices[i : (i + batch_size)]\n",
    "            mini_X, mini_y = X[minibatch], y[minibatch]\n",
    "            self._forwardprop(mini_X, training = True)\n",
    "            self._backprop(mini_X, mini_y)\n",
    "            self._update_params(mini_X.shape[0], lr, decay_rate, num_iterations)\n",
    "    \n",
    "    def _forwardprop(self, X, training):\n",
    "        if self.input_normalization is True:\n",
    "            X = self.normalizer.transform(X)\n",
    "        self.layers.insert(0, self._InputLayer(A = X.T, nl = X.shape[1]))\n",
    "        if training is True:\n",
    "            inverted_dropout_mask = ((np.random.rand(X.T.shape[0], X.T.shape[1]) > self.input_dropout)\n",
    "                                           / (1 - self.input_dropout))\n",
    "            self.layers[0].A *= inverted_dropout_mask\n",
    "        for l, layer in enumerate(self.layers[1:], start = 1):\n",
    "            layer.Z = layer.W @ self.layers[l-1].A + layer.b\n",
    "            layer.A = layer.activation.activate(layer.Z)\n",
    "            if training is True:\n",
    "                inverted_dropout_mask = ((np.random.rand(layer.A.shape[0], layer.A.shape[1]) > layer.dropout)\n",
    "                                               / (1 - layer.dropout))\n",
    "                layer.A *= inverted_dropout_mask\n",
    "        self.layers.pop(0)\n",
    "    \n",
    "    def _backprop(self, X, y):\n",
    "        if self.input_normalization is True:\n",
    "            X = self.normalizer.transform(X)\n",
    "        self.layers.insert(0, self._InputLayer(A = X.T, nl = X.shape[1]))\n",
    "        # Output layer's gradients\n",
    "        yhat = self.layers[-1].A\n",
    "        self.layers[-1].dA = self.loss.dJdA(y, yhat)\n",
    "        self.layers[-1].dZ = self.layers[-1].dA * self.layers[-1].activation.derivative(self.layers[-1].Z)\n",
    "        self.layers[-1].dW = (self.layers[-1].dZ @ self.layers[-2].A.T) / X.shape[0]\n",
    "        self.layers[-1].db = self.layers[-1].dZ.mean(axis = 1, keepdims = True)\n",
    "        self.optimizer._update_accumulators(self.layers[-1])\n",
    "        # Remaining layers' gradients and velocities\n",
    "        for l, layer in reversed(list(enumerate(self.layers[:-1]))):\n",
    "            if isinstance(layer, self._InputLayer):\n",
    "                break\n",
    "            layer.dA = self.layers[l + 1].W.T @ self.layers[l + 1].dZ\n",
    "            layer.dZ = layer.dA * layer.activation.derivative(layer.Z)\n",
    "            layer.dW = (layer.dZ @ self.layers[l-1].A.T) / X.shape[0]\n",
    "            layer.db = layer.dZ.mean(axis = 1, keepdims = True)\n",
    "            self.optimizer._update_accumulators(layer)\n",
    "        self.layers.pop(0)\n",
    "    \n",
    "    def _update_params(self, m, lr, decay_rate, num_iterations):\n",
    "        for layer in self.layers:\n",
    "            decayed_lr = lr / (1 + decay_rate * (self.epochs+1))\n",
    "            layer.W -= decayed_lr * (self.optimizer._gen_update_quantity(layer, 'W', num_iterations)\n",
    "                                     + (self.l2_reg / m) * layer.W)\n",
    "            layer.b -= decayed_lr * self.optimizer._gen_update_quantity(layer, 'b', num_iterations)\n",
    "    \n",
    "    def _check_earlyStopping(self):\n",
    "        eval_fn = max if type(self.metric) in [Accuracy] else min\n",
    "        if self.validation_split > 0:\n",
    "            if self.history.dev_score[-1] == eval_fn(self.history.dev_score):\n",
    "                self.stopper = 0\n",
    "            else:\n",
    "                self.stopper += 1\n",
    "        else:\n",
    "            if self.history.train_score[-1] == eval_fn(self.history.train_score):\n",
    "                self.stopper = 0\n",
    "            else:\n",
    "                self.stopper += 1\n",
    "    \n",
    "    def _cache_best(self):\n",
    "        if self.stopper == 0:\n",
    "            self.history.best_W = [layer.W for layer in self.layers]\n",
    "            self.history.best_b = [layer.b for layer in self.layers]\n",
    "            if self.validation_split > 0:\n",
    "                self.history.best_score = self.history.dev_score[-1]\n",
    "            else:\n",
    "                self.history.best_score = self.history.train_score[-1]\n",
    "    \n",
    "    def _restore_best_weights(self):\n",
    "        for l, layer in enumerate(self.layers):\n",
    "            layer.W = self.history.best_W[l]\n",
    "            layer.b = self.history.best_b[l]\n",
    "    \n",
    "    class _InputLayer:\n",
    "        def __init__(self, A, nl):\n",
    "            self.A = A\n",
    "            self.nl = nl\n",
    "    \n",
    "    class _History:\n",
    "        def __init__(self, train_score = None, dev_score = None):\n",
    "            if train_score is None:\n",
    "                self.train_score = []\n",
    "            if dev_score is None:\n",
    "                self.dev_score = []"
   ]
  },
  {
   "cell_type": "markdown",
   "id": "65f8c9a9",
   "metadata": {},
   "source": [
    "# 3. Gradient Checking"
   ]
  },
  {
   "cell_type": "code",
   "execution_count": 4,
   "id": "14680cd5",
   "metadata": {},
   "outputs": [],
   "source": [
    "def J(X, y, model):\n",
    "    yhat = model.predict(X)\n",
    "    base_loss = model.loss.score(y, yhat)\n",
    "    reg_loss = sum([(layer.W**2).sum() for layer in model.layers]) * (model.l2_reg / (2*X.shape[0]))\n",
    "    return base_loss + reg_loss\n",
    "\n",
    "def gradient_approx(X, y, model, l, attr, index, epsilon=1e-7):\n",
    "    tmp_model = copy.deepcopy(model)\n",
    "    getattr(tmp_model.layers[l], attr)[index] += epsilon\n",
    "    J1 = J(X, y, tmp_model)\n",
    "    getattr(tmp_model.layers[l], attr)[index] -= 2*epsilon\n",
    "    J2 = J(X, y, tmp_model)\n",
    "    return (J1 - J2) / (2*epsilon)\n",
    "\n",
    "def gradient_checking(X, y, model):\n",
    "    results = []\n",
    "    \n",
    "    model._forwardprop(X, training = False)\n",
    "    model._backprop(X, y)\n",
    "    \n",
    "    for l, layer in enumerate(model.layers):\n",
    "        for index, dw in np.ndenumerate(layer.dW):\n",
    "            approximation = gradient_approx(X, y, model, l, 'W', index)\n",
    "            results.append([l,\n",
    "                            'W',\n",
    "                            index,\n",
    "                            dw + layer.W[index] * (model.l2_reg / X.shape[0]),\n",
    "                            approximation])\n",
    "\n",
    "        for index, db in np.ndenumerate(layer.db):\n",
    "            approximation = gradient_approx(X, y, model, l, 'b', index)\n",
    "            results.append([l, 'b', index, db, approximation])\n",
    "\n",
    "    results = pd.DataFrame(results, columns = ['Layer', 'Attr', 'Index', 'dtheta', 'dtheta_approx'])\n",
    "    results['Difference'] = results['dtheta'] - results['dtheta_approx']\n",
    "    \n",
    "    normalized_distance = (np.linalg.norm(results['dtheta'] - results['dtheta_approx'])\n",
    "                            / (np.linalg.norm(results['dtheta']) + np.linalg.norm(results['dtheta_approx'])))\n",
    "    \n",
    "    return normalized_distance"
   ]
  },
  {
   "cell_type": "markdown",
   "id": "9b0dc986",
   "metadata": {},
   "source": [
    "# 4. Classification and Regression Implementations"
   ]
  },
  {
   "cell_type": "markdown",
   "id": "0d124cef",
   "metadata": {},
   "source": [
    "### Classification"
   ]
  },
  {
   "cell_type": "code",
   "execution_count": 5,
   "id": "62bd2abe",
   "metadata": {},
   "outputs": [],
   "source": [
    "X, y = make_classification(\n",
    "    #random_state=42,   # Random seed for reproducibility\n",
    "    n_samples=1000,   # Number of samples\n",
    "    n_features=80,    # Number of features\n",
    "    n_informative=50, # Number of informative features\n",
    "    n_redundant=30,   # Number of redundant features\n",
    "    n_classes=2,      # Number of classes\n",
    "    flip_y=0.2,       # Fraction of samples whose class is assigned randomly\n",
    ")\n",
    "\n",
    "X_train, X_test, y_train, y_test = train_test_split(X, y, test_size = 0.1, shuffle = True)"
   ]
  },
  {
   "cell_type": "code",
   "execution_count": 6,
   "id": "176b2ccc",
   "metadata": {},
   "outputs": [
    {
     "data": {
      "text/plain": [
       "216"
      ]
     },
     "execution_count": 6,
     "metadata": {},
     "output_type": "execute_result"
    }
   ],
   "source": [
    "model = MLP(l2_reg = 0.5, input_dropout=0.1)\n",
    "model.add(Dense((32, 80), relu(), dropout=0.0))\n",
    "model.add(Dense((16, 32), leakyrelu(), dropout=0.0))\n",
    "model.add(Dense((4, 16), tanh(), dropout=0.0))\n",
    "model.add(Dense((1, 4), sigmoid()))\n",
    "\n",
    "model.fit(X_train, y_train,\n",
    "          epochs=1000,\n",
    "          earlyStopping=20,\n",
    "          validation_split = 1/9,\n",
    "          lr = 0.005)\n",
    "model.epochs"
   ]
  },
  {
   "cell_type": "code",
   "execution_count": 7,
   "id": "a041b444",
   "metadata": {
    "scrolled": true
   },
   "outputs": [
    {
     "name": "stdout",
     "output_type": "stream",
     "text": [
      "Train score: 0.976\n",
      "Dev score:   0.83\n",
      "Test score:  0.81\n"
     ]
    }
   ],
   "source": [
    "print('Train score:', round(max(model.history.train_score), 3))\n",
    "print('Dev score:  ', model.history.best_score)\n",
    "print('Test score: ', model.score(X_test, y_test))"
   ]
  },
  {
   "cell_type": "code",
   "execution_count": 8,
   "id": "a94c96b0",
   "metadata": {},
   "outputs": [
    {
     "data": {
      "image/png": "[encoded data removed]",
      "text/plain": [
       "<Figure size 640x480 with 1 Axes>"
      ]
     },
     "metadata": {},
     "output_type": "display_data"
    }
   ],
   "source": [
    "plt.plot(range(len(model.history.train_score)), model.history.train_score, label = 'train score')\n",
    "plt.plot(range(len(model.history.dev_score)), model.history.dev_score, label = 'dev score')\n",
    "plt.legend()\n",
    "plt.show()"
   ]
  },
  {
   "cell_type": "code",
   "execution_count": 9,
   "id": "13e445a4",
   "metadata": {},
   "outputs": [
    {
     "data": {
      "text/plain": [
       "2.2500031569424956e-08"
      ]
     },
     "execution_count": 9,
     "metadata": {},
     "output_type": "execute_result"
    }
   ],
   "source": [
    "gradient_checking(X_train[:100], y_train[:100], model)"
   ]
  },
  {
   "cell_type": "markdown",
   "id": "7fa55fa2",
   "metadata": {},
   "source": [
    "### Regression"
   ]
  },
  {
   "cell_type": "code",
   "execution_count": 10,
   "id": "b605678a",
   "metadata": {},
   "outputs": [],
   "source": [
    "X, y = make_regression(\n",
    "    #random_state=42,   # Random seed for reproducibility\n",
    "    n_samples=1000,   # Number of samples\n",
    "    n_features=80,    # Number of features\n",
    "    n_informative=50, # Number of informative features\n",
    "    noise=0.1         # SD of the gaussian noise applied to the output\n",
    ")\n",
    "\n",
    "X_train, X_test, y_train, y_test = train_test_split(X, y, test_size = 0.1, shuffle = True)"
   ]
  },
  {
   "cell_type": "code",
   "execution_count": 11,
   "id": "f74cdebe",
   "metadata": {},
   "outputs": [
    {
     "data": {
      "text/plain": [
       "199"
      ]
     },
     "execution_count": 11,
     "metadata": {},
     "output_type": "execute_result"
    }
   ],
   "source": [
    "model = MLP(l2_reg = 0.5, input_dropout=0.1, loss = MeanSquaredError(), metric = MeanSquaredError())\n",
    "model.add(Dense((32, 80), relu(), dropout=0.1))\n",
    "model.add(Dense((16, 32), leakyrelu(), dropout=0.0))\n",
    "model.add(Dense((4, 16), leakyrelu(), dropout=0.0))\n",
    "model.add(Dense((1, 4)))\n",
    "\n",
    "model.fit(X_train, y_train,\n",
    "          epochs=1000,\n",
    "          earlyStopping=20,\n",
    "          validation_split = 1/9,\n",
    "          lr = 1e-2)\n",
    "len(model.history.dev_score)"
   ]
  },
  {
   "cell_type": "code",
   "execution_count": 12,
   "id": "e931977d",
   "metadata": {},
   "outputs": [
    {
     "name": "stdout",
     "output_type": "stream",
     "text": [
      "Train score: 2541.319\n",
      "Dev score:   6423.371646444038\n",
      "Test score:  4981.393044938813\n"
     ]
    }
   ],
   "source": [
    "print('Train score:', round(min(model.history.train_score), 3))\n",
    "print('Dev score:  ', model.history.best_score)\n",
    "print('Test score: ', model.score(X_test, y_test))"
   ]
  },
  {
   "cell_type": "code",
   "execution_count": 13,
   "id": "1ff54ab2",
   "metadata": {},
   "outputs": [
    {
     "data": {
      "image/png": "[encoded data removed]",
      "text/plain": [
       "<Figure size 640x480 with 1 Axes>"
      ]
     },
     "metadata": {},
     "output_type": "display_data"
    }
   ],
   "source": [
    "plt.plot(range(len(model.history.train_score)), model.history.train_score, label = 'train score')\n",
    "plt.plot(range(len(model.history.dev_score)), model.history.dev_score, label = 'dev score')\n",
    "plt.legend()\n",
    "plt.show()"
   ]
  },
  {
   "cell_type": "code",
   "execution_count": 14,
   "id": "70da498a",
   "metadata": {},
   "outputs": [
    {
     "data": {
      "text/plain": [
       "7.88201741488647e-09"
      ]
     },
     "execution_count": 14,
     "metadata": {},
     "output_type": "execute_result"
    }
   ],
   "source": [
    "gradient_checking(X_train[:100], y_train[:100], model)"
   ]
  },
  {
   "cell_type": "markdown",
   "id": "65ea5d47",
   "metadata": {},
   "source": [
    "# Notes/Drafts"
   ]
  },
  {
   "cell_type": "markdown",
   "id": "3f71ab14",
   "metadata": {},
   "source": [
    "Hyperparameters:\n",
    "* learning rate $\\alpha$\n",
    "* number of iterations\n",
    "* number of hidden layers L\n",
    "* number of hidden units $n^{[1]}, ..., n^{[L]}$\n",
    "* activation function choices\n",
    "* loss function\n",
    "* regularization:\n",
    "    * L2\n",
    "    * dropout\n",
    "    * early stopping\n",
    "    * data augmentation\n",
    "\n",
    "Others yet to implement:\n",
    "* momentum\n",
    "* minibatch size\n",
    "* learning rate decay\n",
    "\n",
    "Lower down in importance but can potentially tune:\n",
    "* standard deviation of weight initializations"
   ]
  }
 ],
 "metadata": {
  "kernelspec": {
   "display_name": "Python 3 (ipykernel)",
   "language": "python",
   "name": "python3"
  },
  "language_info": {
   "codemirror_mode": {
    "name": "ipython",
    "version": 3
   },
   "file_extension": ".py",
   "mimetype": "text/x-python",
   "name": "python",
   "nbconvert_exporter": "python",
   "pygments_lexer": "ipython3",
   "version": "3.9.7"
  }
 },
 "nbformat": 4,
 "nbformat_minor": 5
}
