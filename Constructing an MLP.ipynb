{
 "cells": [
  {
   "cell_type": "markdown",
   "id": "ba3fb353",
   "metadata": {},
   "source": [
    "# 1. Overview"
   ]
  },
  {
   "cell_type": "markdown",
   "id": "4be27a92",
   "metadata": {},
   "source": [
    "The code here implements a fully-connected feedforward network from scratch. It is based on material covered in the *DeepLearning.AI* [Deep Learning Specialization](https://www.deeplearning.ai/courses/deep-learning-specialization/), and is loosely inspired by the `Keras` neural network implementation for the coding architecture.\n",
    "\n",
    "Capabilities implemented so far:\n",
    "\n",
    "* Layer types:\n",
    "    * Dense (only layer type supported so far)\n",
    "        * Weight initializations:\n",
    "            1. Xavier\n",
    "            2. He\n",
    "* Activation functions:\n",
    "    * ReLU\n",
    "    * Leaky ReLU\n",
    "    * Tanh\n",
    "    * Sigmoid\n",
    "    * Linear (identity)\n",
    "* Loss functions and evaluation metrics:\n",
    "    * Binary cross-entropy (both)\n",
    "    * Mean squared error (both)\n",
    "    * Accuracy (only as an evaluation metric)\n",
    "* Regularization methods:\n",
    "    * L2\n",
    "    * Dropout\n",
    "    * Early stopping\n",
    "* Evaluation on a validation set supported\n",
    "* A gradient-checking function to verify the validity of the gradient descent implementation"
   ]
  },
  {
   "cell_type": "markdown",
   "id": "91a1e54f",
   "metadata": {},
   "source": [
    "# 2. Model Construction"
   ]
  },
  {
   "cell_type": "code",
   "execution_count": 1,
   "id": "27a0da54",
   "metadata": {},
   "outputs": [],
   "source": [
    "import numpy as np\n",
    "import pandas as pd\n",
    "import matplotlib.pyplot as plt\n",
    "from sklearn.datasets import make_classification, make_regression\n",
    "from sklearn.model_selection import train_test_split\n",
    "from sklearn.preprocessing import StandardScaler\n",
    "import copy"
   ]
  },
  {
   "cell_type": "code",
   "execution_count": 2,
   "id": "3d656e6f",
   "metadata": {},
   "outputs": [],
   "source": [
    "# --------------------------------------------\n",
    "class Activations:\n",
    "    class relu:\n",
    "        @staticmethod\n",
    "        def activate(x):\n",
    "            return np.maximum(x, 0)\n",
    "        @staticmethod\n",
    "        def derivative(x):\n",
    "            return np.where(x >= 0, 1, 0)\n",
    "\n",
    "    class leakyrelu:\n",
    "        @staticmethod\n",
    "        def activate(x):\n",
    "            return np.where(x >= 0, x, 0.01*x)\n",
    "        @staticmethod\n",
    "        def derivative(x):\n",
    "            return np.where(x >= 0, 1, 0.01)\n",
    "\n",
    "    class sigmoid:\n",
    "        @staticmethod\n",
    "        def activate(x):\n",
    "            return 1 / (1 + np.exp(-x))\n",
    "        @staticmethod\n",
    "        def derivative(x):\n",
    "            return Activations.sigmoid.activate(x) * (1 - Activations.sigmoid.activate(x))\n",
    "\n",
    "    class tanh:\n",
    "        @staticmethod\n",
    "        @np.vectorize\n",
    "        def activate(x):\n",
    "            return np.math.tanh(x)\n",
    "        @staticmethod\n",
    "        @np.vectorize\n",
    "        def derivative(x):\n",
    "            return 1 - np.math.tanh(x) ** 2\n",
    "    \n",
    "    class linear:\n",
    "        @staticmethod\n",
    "        def activate(x):\n",
    "            return x\n",
    "        @staticmethod\n",
    "        def derivative(x):\n",
    "            return 1\n",
    "\n",
    "# --------------------------------------------\n",
    "class Dense:\n",
    "    \n",
    "    def __init__(self,  shape, activation = 'linear', weight_initialization = None, dropout = 0.0):\n",
    "        self.nl = shape[0]\n",
    "        self.activation = getattr(Activations, activation)\n",
    "        self.nl_1 = shape[1]\n",
    "        self.dropout = dropout\n",
    "        \n",
    "        if weight_initialization in ['Xavier', 'He']:\n",
    "            self.weight_initialization = weight_initialization\n",
    "        elif weight_initialization is None:\n",
    "            self.weight_initialization = self._set_default_initializer(activation)\n",
    "        else:\n",
    "            raise ValueError('Initialization method not supported')\n",
    "        \n",
    "        if self.weight_initialization == 'Xavier':\n",
    "            self.W = self._Xavier_initialization(self.nl, self.nl_1)\n",
    "        elif self.weight_initialization == 'He':\n",
    "            self.W = self._He_initialization(self.nl, self.nl_1)\n",
    "        self.b = np.zeros(self.nl).reshape(self.nl, 1)\n",
    "    \n",
    "    def _set_default_initializer(self, activation):\n",
    "        if activation in ['relu', 'leakyrelu']:\n",
    "            return 'He'\n",
    "        else:\n",
    "            return 'Xavier'\n",
    "    \n",
    "    def _Xavier_initialization(self, nl, nl_1):\n",
    "        bound = (6 / (nl + nl_1)) ** 0.5\n",
    "        return np.random.uniform(-bound, bound, size = (nl, nl_1))\n",
    "    \n",
    "    def _He_initialization(self, nl, nl_1):\n",
    "        stdev = (2 / nl_1) ** 0.5\n",
    "        return np.random.normal(scale = stdev, size = (nl, nl_1))\n",
    "\n",
    "# --------------------------------------------\n",
    "class Metrics:\n",
    "    @staticmethod\n",
    "    def accuracy(y, preds, threshold = 0.5):\n",
    "        return (np.mean((preds >= threshold) - y == 0))\n",
    "    \n",
    "    @staticmethod\n",
    "    def binary_crossentropy(y, preds):\n",
    "        return -np.mean(y * np.log(preds) + (1 - y) * np.log(1 - preds))\n",
    "    \n",
    "    @staticmethod\n",
    "    def mean_squared_error(y, preds):\n",
    "        return ((y - preds) ** 2).mean()"
   ]
  },
  {
   "cell_type": "code",
   "execution_count": 3,
   "id": "23d01bea",
   "metadata": {},
   "outputs": [],
   "source": [
    "class MLP:\n",
    "    \n",
    "    def __init__(self, loss = 'binary_crossentropy', metric = 'accuracy', restore_best = True, l2_reg = 0.0,\n",
    "                 input_dropout = 0.0, input_normalization = True):\n",
    "        self.layers = []\n",
    "        self.loss = loss\n",
    "        self.metric = metric\n",
    "        self.restore_best = restore_best\n",
    "        self.l2_reg = l2_reg\n",
    "        self.input_dropout = input_dropout\n",
    "        self.input_normalization = input_normalization\n",
    "        if loss not in ['binary_crossentropy', 'mean_squared_error']:\n",
    "            raise ValueError('Loss not currently supported')\n",
    "        if metric not in ['accuracy', 'binary_crossentropy', 'mean_squared_error']:\n",
    "            raise ValueError('Metric not currently supported')\n",
    "    \n",
    "    def add(self, layer):\n",
    "        self.layers.append(layer)\n",
    "    \n",
    "    def fit(self, X, y, max_iter = 100, earlyStopping = None, validation_split = 0.0, lr = 0.01):\n",
    "        \n",
    "        self.validation_split = validation_split\n",
    "        X_train, X_dev, y_train, y_dev = self._custom_train_test_split(X, y, validation_split)\n",
    "        \n",
    "        if self.input_normalization is True:\n",
    "            self.normalizer = StandardScaler().fit(X_train)\n",
    "        \n",
    "        self.history = self._History()\n",
    "        self.stopper = 0  # increment until the early stopping value\n",
    "        \n",
    "        for i in range(max_iter):\n",
    "            self._forwardprop(X_train, training = True)\n",
    "            self._backprop(X_train, y_train)\n",
    "            self._update_params(lr, X_train.shape[0])\n",
    "            self.history.train_score.append(self.score(X_train, y_train))\n",
    "            if validation_split > 0:\n",
    "                self.history.dev_score.append(self.score(X_dev, y_dev))\n",
    "            \n",
    "            self._check_earlyStopping()\n",
    "            if self.restore_best == True:\n",
    "                self._cache_best()\n",
    "            if earlyStopping is not None:\n",
    "                if self.stopper == earlyStopping:\n",
    "                    break\n",
    "                    \n",
    "        del self.stopper\n",
    "        if self.restore_best is True:\n",
    "            self._restore_best_weights()\n",
    "    \n",
    "    def predict(self, X):\n",
    "        self._forwardprop(X, training = False)\n",
    "        preds = self.layers[-1].A\n",
    "        return preds\n",
    "    \n",
    "    def score(self, X, y):\n",
    "        preds = self.predict(X)\n",
    "        score_fn = getattr(Metrics, self.metric)\n",
    "        return score_fn(y, preds)\n",
    "    \n",
    "    def _custom_train_test_split(self, X, y, validation_split):\n",
    "        if validation_split < 0 or validation_split >= 1:\n",
    "            raise ValueError('Validation split should be in the range [0,1) (0 results in no validation set)')\n",
    "        indices = np.random.permutation(len(X))\n",
    "        train_size = round(len(X) * (1 - validation_split))\n",
    "        self.train_indices = indices[:train_size]\n",
    "        X_train = X[self.train_indices]\n",
    "        y_train = y[self.train_indices]\n",
    "        X_dev = X[indices[train_size:]]\n",
    "        y_dev = y[indices[train_size:]]\n",
    "        return X_train, X_dev, y_train, y_dev\n",
    "    \n",
    "    def _forwardprop(self, X, training):\n",
    "        if self.input_normalization is True:\n",
    "            X = self.normalizer.transform(X)\n",
    "        self.layers.insert(0, self._InputLayer(A = X.T, nl = X.shape[1]))\n",
    "        if training is True:\n",
    "            inverted_dropout_mask = ((np.random.rand(X.T.shape[0], X.T.shape[1]) > self.input_dropout)\n",
    "                                           / (1 - self.input_dropout))\n",
    "            self.layers[0].A *= inverted_dropout_mask\n",
    "        for l, layer in enumerate(self.layers[1:], start = 1):\n",
    "            layer.Z = layer.W @ self.layers[l-1].A + layer.b\n",
    "            layer.A = layer.activation.activate(layer.Z)\n",
    "            if training is True:\n",
    "                inverted_dropout_mask = ((np.random.rand(layer.A.shape[0], layer.A.shape[1]) > layer.dropout)\n",
    "                                               / (1 - layer.dropout))\n",
    "                layer.A *= inverted_dropout_mask\n",
    "        self.layers.pop(0)\n",
    "    \n",
    "    def _backprop(self, X, y):\n",
    "        if self.input_normalization is True:\n",
    "            X = self.normalizer.transform(X)\n",
    "        self.layers.insert(0, self._InputLayer(A = X.T, nl = X.shape[1]))\n",
    "        # Output layer's gradients\n",
    "        yhat = self.layers[-1].A\n",
    "        if self.loss == 'binary_crossentropy':\n",
    "            self.layers[-1].dA = -(y/yhat) + (1-y) / (1 - yhat)\n",
    "        elif self.loss == 'mean_squared_error':\n",
    "            self.layers[-1].dA = -2 * (y - yhat)\n",
    "        self.layers[-1].dZ = self.layers[-1].dA * self.layers[-1].activation.derivative(self.layers[-1].Z)\n",
    "        self.layers[-1].dW = (self.layers[-1].dZ @ self.layers[-2].A.T) / X.shape[0]\n",
    "        self.layers[-1].db = self.layers[-1].dZ.mean(axis = 1, keepdims = True)\n",
    "        # Remaining layers' gradients\n",
    "        for l, layer in reversed(list(enumerate(self.layers[:-1]))):\n",
    "            if isinstance(layer, self._InputLayer):\n",
    "                break\n",
    "            layer.dA = self.layers[l + 1].W.T @ self.layers[l + 1].dZ\n",
    "            layer.dZ = layer.dA * layer.activation.derivative(layer.Z)\n",
    "            layer.dW = (layer.dZ @ self.layers[l-1].A.T) / X.shape[0]\n",
    "            layer.db = layer.dZ.mean(axis = 1, keepdims = True)\n",
    "        self.layers.pop(0)\n",
    "    \n",
    "    def _update_params(self, lr, m):\n",
    "        for layer in self.layers:\n",
    "            layer.W -= lr * (layer.dW + (self.l2_reg / m) * layer.W)\n",
    "            layer.b -= lr * layer.db\n",
    "    \n",
    "    def _check_earlyStopping(self):\n",
    "        eval_fn = max if self.metric in ['accuracy'] else min\n",
    "        if self.validation_split > 0:\n",
    "            if self.history.dev_score[-1] == eval_fn(self.history.dev_score):\n",
    "                self.stopper = 0\n",
    "            else:\n",
    "                self.stopper += 1\n",
    "        else:\n",
    "            if self.history.train_score[-1] == eval_fn(self.history.train_score):\n",
    "                self.stopper = 0\n",
    "            else:\n",
    "                self.stopper += 1\n",
    "    \n",
    "    def _cache_best(self):\n",
    "        if self.stopper == 0:\n",
    "            self.history.best_W = [layer.W for layer in self.layers]\n",
    "            self.history.best_b = [layer.b for layer in self.layers]\n",
    "            if self.validation_split > 0:\n",
    "                self.history.best_score = self.history.dev_score[-1]\n",
    "            else:\n",
    "                self.history.best_score = self.history.train_score[-1]\n",
    "    \n",
    "    def _restore_best_weights(self):\n",
    "        for l, layer in enumerate(self.layers):\n",
    "            layer.W = self.history.best_W[l]\n",
    "            layer.b = self.history.best_b[l]\n",
    "    \n",
    "    class _InputLayer:\n",
    "        def __init__(self, A, nl):\n",
    "            self.A = A\n",
    "            self.nl = nl\n",
    "    \n",
    "    class _History:\n",
    "        def __init__(self, train_score = None, dev_score = None):\n",
    "            if train_score is None:\n",
    "                self.train_score = []\n",
    "            if dev_score is None:\n",
    "                self.dev_score = []"
   ]
  },
  {
   "cell_type": "markdown",
   "id": "65f8c9a9",
   "metadata": {},
   "source": [
    "# 3. Gradient Checking"
   ]
  },
  {
   "cell_type": "code",
   "execution_count": 4,
   "id": "14680cd5",
   "metadata": {},
   "outputs": [],
   "source": [
    "def J(X, y, model):\n",
    "    loss_fn = getattr(Metrics, model.loss)\n",
    "    yhat = model.predict(X)\n",
    "    base_loss = loss_fn(y, yhat)\n",
    "    reg_loss = sum([(layer.W**2).sum() for layer in model.layers]) * (model.l2_reg / (2*X.shape[0]))\n",
    "    return base_loss + reg_loss\n",
    "\n",
    "def gradient_approx(X, y, model, l, attr, index, epsilon=1e-7):\n",
    "    tmp_model = copy.deepcopy(model)\n",
    "    getattr(tmp_model.layers[l], attr)[index] += epsilon\n",
    "    J1 = J(X, y, tmp_model)\n",
    "    getattr(tmp_model.layers[l], attr)[index] -= 2*epsilon\n",
    "    J2 = J(X, y, tmp_model)\n",
    "    return (J1 - J2) / (2*epsilon)\n",
    "\n",
    "def gradient_checking(X, y, model):\n",
    "    results = []\n",
    "    \n",
    "    model._forwardprop(X[model.train_indices], training = False)\n",
    "    model._backprop(X[model.train_indices], y[model.train_indices])\n",
    "    \n",
    "    for l, layer in enumerate(model.layers):\n",
    "        for index, dw in np.ndenumerate(layer.dW):\n",
    "            approximation = gradient_approx(X[model.train_indices], y[model.train_indices], model, l, 'W', index)\n",
    "            results.append([l,\n",
    "                            'W',\n",
    "                            index,\n",
    "                            dw + layer.W[index] * (model.l2_reg / X[model.train_indices].shape[0]),\n",
    "                            approximation])\n",
    "\n",
    "        for index, db in np.ndenumerate(layer.db):\n",
    "            approximation = gradient_approx(X[model.train_indices], y[model.train_indices], model, l, 'b', index)\n",
    "            results.append([l, 'b', index, db, approximation])\n",
    "\n",
    "    results = pd.DataFrame(results, columns = ['Layer', 'Attr', 'Index', 'dtheta', 'dtheta_approx'])\n",
    "    results['Difference'] = results['dtheta'] - results['dtheta_approx']\n",
    "    \n",
    "    normalized_distance = (np.linalg.norm(results['dtheta'] - results['dtheta_approx'])\n",
    "                            / (np.linalg.norm(results['dtheta']) + np.linalg.norm(results['dtheta_approx'])))\n",
    "    \n",
    "    return normalized_distance"
   ]
  },
  {
   "cell_type": "markdown",
   "id": "9b0dc986",
   "metadata": {},
   "source": [
    "# 4. Classification and Regression Implementations"
   ]
  },
  {
   "cell_type": "markdown",
   "id": "0d124cef",
   "metadata": {},
   "source": [
    "### Classification"
   ]
  },
  {
   "cell_type": "code",
   "execution_count": 5,
   "id": "62bd2abe",
   "metadata": {},
   "outputs": [],
   "source": [
    "X, y = make_classification(\n",
    "    n_samples=1000,   # Number of samples\n",
    "    n_features=80,    # Number of features\n",
    "    n_informative=50, # Number of informative features\n",
    "    n_redundant=30,   # Number of redundant features\n",
    "    n_classes=2,      # Number of classes\n",
    "    random_state=42   # Random seed for reproducibility\n",
    ")\n",
    "\n",
    "X_train, X_test, y_train, y_test = train_test_split(X, y, test_size = 0.1, shuffle = True)"
   ]
  },
  {
   "cell_type": "code",
   "execution_count": 6,
   "id": "176b2ccc",
   "metadata": {},
   "outputs": [],
   "source": [
    "model = MLP(l2_reg = 1, input_dropout=0.1)\n",
    "model.add(Dense((32, 80), 'relu', dropout=0.0))\n",
    "model.add(Dense((16, 32), 'leakyrelu', dropout=0.0))\n",
    "model.add(Dense((4, 16), 'tanh', dropout=0.0))\n",
    "model.add(Dense((1, 4), 'sigmoid'))"
   ]
  },
  {
   "cell_type": "code",
   "execution_count": 7,
   "id": "23a91495",
   "metadata": {},
   "outputs": [
    {
     "data": {
      "text/plain": [
       "200"
      ]
     },
     "execution_count": 7,
     "metadata": {},
     "output_type": "execute_result"
    }
   ],
   "source": [
    "model.fit(X_train, y_train,\n",
    "          max_iter=1000,\n",
    "          earlyStopping=20,\n",
    "          validation_split = 1/9,\n",
    "          lr = 0.1)\n",
    "len(model.history.dev_score)"
   ]
  },
  {
   "cell_type": "code",
   "execution_count": 8,
   "id": "a041b444",
   "metadata": {
    "scrolled": true
   },
   "outputs": [
    {
     "name": "stdout",
     "output_type": "stream",
     "text": [
      "Train score: 0.971\n",
      "Dev score:   0.87\n",
      "Test score:  0.85\n"
     ]
    }
   ],
   "source": [
    "print('Train score:', round(max(model.history.train_score), 3))\n",
    "print('Dev score:  ', model.history.best_score)\n",
    "print('Test score: ', model.score(X_test, y_test))"
   ]
  },
  {
   "cell_type": "code",
   "execution_count": 9,
   "id": "a94c96b0",
   "metadata": {},
   "outputs": [
    {
     "data": {
      "image/png": "[encoded data removed]",
      "text/plain": [
       "<Figure size 640x480 with 1 Axes>"
      ]
     },
     "metadata": {},
     "output_type": "display_data"
    }
   ],
   "source": [
    "plt.plot(range(len(model.history.train_score)), model.history.train_score, label = 'train score')\n",
    "plt.plot(range(len(model.history.dev_score)), model.history.dev_score, label = 'dev score')\n",
    "plt.legend()\n",
    "plt.show()"
   ]
  },
  {
   "cell_type": "code",
   "execution_count": 10,
   "id": "13e445a4",
   "metadata": {},
   "outputs": [
    {
     "data": {
      "text/plain": [
       "2.223971080652107e-08"
      ]
     },
     "execution_count": 10,
     "metadata": {},
     "output_type": "execute_result"
    }
   ],
   "source": [
    "gradient_checking(X_train, y_train, model)"
   ]
  },
  {
   "cell_type": "markdown",
   "id": "7fa55fa2",
   "metadata": {},
   "source": [
    "### Regression\n",
    "\n",
    "Currently, the weights diverge during training. The next addition to this script will be a batch normalization implementation, which will hopefully address this issue"
   ]
  },
  {
   "cell_type": "code",
   "execution_count": 11,
   "id": "b605678a",
   "metadata": {},
   "outputs": [],
   "source": [
    "X, y = make_regression(\n",
    "    n_samples=1000,   # Number of samples\n",
    "    n_features=80,    # Number of features\n",
    "    n_informative=50, # Number of informative features\n",
    "    noise=0.1,        # SD of the gaussian noise applied to the output\n",
    "    random_state=42   # Random seed for reproducibility\n",
    ")\n",
    "\n",
    "X_train, X_test, y_train, y_test = train_test_split(X, y, test_size = 0.1, shuffle = True)"
   ]
  },
  {
   "cell_type": "code",
   "execution_count": 12,
   "id": "64a07445",
   "metadata": {},
   "outputs": [],
   "source": [
    "model = MLP(l2_reg = 1, input_dropout=0.1, loss = 'mean_squared_error', metric = 'mean_squared_error')\n",
    "model.add(Dense((32, 80), 'relu', dropout=0.0))\n",
    "model.add(Dense((16, 32), 'leakyrelu', dropout=0.0))\n",
    "model.add(Dense((4, 16), 'leakyrelu', dropout=0.0))\n",
    "model.add(Dense((1, 4)))"
   ]
  },
  {
   "cell_type": "code",
   "execution_count": 13,
   "id": "f74cdebe",
   "metadata": {},
   "outputs": [
    {
     "name": "stderr",
     "output_type": "stream",
     "text": [
      "C:\\Users\\user\\AppData\\Local\\Temp\\ipykernel_16036\\3703730867.py:81: RuntimeWarning: overflow encountered in matmul\n",
      "  layer.Z = layer.W @ self.layers[l-1].A + layer.b\n",
      "C:\\Users\\user\\AppData\\Local\\Temp\\ipykernel_16036\\3703730867.py:81: RuntimeWarning: invalid value encountered in matmul\n",
      "  layer.Z = layer.W @ self.layers[l-1].A + layer.b\n",
      "C:\\Users\\user\\AppData\\Local\\Temp\\ipykernel_16036\\2600771083.py:93: RuntimeWarning: overflow encountered in square\n",
      "  return ((y - preds) ** 2).mean()\n",
      "C:\\Users\\user\\AppData\\Local\\Temp\\ipykernel_16036\\3703730867.py:81: RuntimeWarning: overflow encountered in matmul\n",
      "  layer.Z = layer.W @ self.layers[l-1].A + layer.b\n",
      "C:\\Users\\user\\AppData\\Local\\Temp\\ipykernel_16036\\3703730867.py:81: RuntimeWarning: invalid value encountered in matmul\n",
      "  layer.Z = layer.W @ self.layers[l-1].A + layer.b\n",
      "C:\\Users\\user\\AppData\\Local\\Temp\\ipykernel_16036\\2600771083.py:93: RuntimeWarning: overflow encountered in square\n",
      "  return ((y - preds) ** 2).mean()\n",
      "C:\\Users\\user\\AppData\\Local\\Temp\\ipykernel_16036\\3703730867.py:81: RuntimeWarning: overflow encountered in matmul\n",
      "  layer.Z = layer.W @ self.layers[l-1].A + layer.b\n",
      "C:\\Users\\user\\AppData\\Local\\Temp\\ipykernel_16036\\3703730867.py:81: RuntimeWarning: invalid value encountered in matmul\n",
      "  layer.Z = layer.W @ self.layers[l-1].A + layer.b\n",
      "C:\\Users\\user\\AppData\\Local\\Temp\\ipykernel_16036\\3703730867.py:100: RuntimeWarning: overflow encountered in matmul\n",
      "  self.layers[-1].dW = (self.layers[-1].dZ @ self.layers[-2].A.T) / X.shape[0]\n",
      "C:\\Users\\user\\AppData\\Local\\Temp\\ipykernel_16036\\3703730867.py:106: RuntimeWarning: overflow encountered in matmul\n",
      "  layer.dA = self.layers[l + 1].W.T @ self.layers[l + 1].dZ\n",
      "C:\\Users\\user\\AppData\\Local\\Temp\\ipykernel_16036\\3703730867.py:106: RuntimeWarning: invalid value encountered in matmul\n",
      "  layer.dA = self.layers[l + 1].W.T @ self.layers[l + 1].dZ\n"
     ]
    },
    {
     "data": {
      "text/plain": [
       "21"
      ]
     },
     "execution_count": 13,
     "metadata": {},
     "output_type": "execute_result"
    }
   ],
   "source": [
    "model.fit(X_train, y_train,\n",
    "          max_iter=1000,\n",
    "          earlyStopping=20,\n",
    "          validation_split = 1/9,\n",
    "          lr = 0.1)\n",
    "len(model.history.dev_score)"
   ]
  },
  {
   "cell_type": "code",
   "execution_count": 14,
   "id": "e931977d",
   "metadata": {},
   "outputs": [
    {
     "name": "stdout",
     "output_type": "stream",
     "text": [
      "Train score: 141063.476\n",
      "Dev score:   136049.5755266155\n",
      "Test score:  nan\n"
     ]
    }
   ],
   "source": [
    "print('Train score:', round(min(model.history.train_score), 3))\n",
    "print('Dev score:  ', model.history.best_score)\n",
    "print('Test score: ', model.score(X_test, y_test))"
   ]
  },
  {
   "cell_type": "code",
   "execution_count": 15,
   "id": "1ff54ab2",
   "metadata": {},
   "outputs": [
    {
     "data": {
      "image/png": "[encoded data removed]",
      "text/plain": [
       "<Figure size 640x480 with 1 Axes>"
      ]
     },
     "metadata": {},
     "output_type": "display_data"
    }
   ],
   "source": [
    "plt.plot(range(len(model.history.train_score)), model.history.train_score, label = 'train score')\n",
    "plt.plot(range(len(model.history.dev_score)), model.history.dev_score, label = 'dev score')\n",
    "plt.legend()\n",
    "plt.show()"
   ]
  },
  {
   "cell_type": "code",
   "execution_count": 16,
   "id": "70da498a",
   "metadata": {},
   "outputs": [
    {
     "data": {
      "text/plain": [
       "nan"
      ]
     },
     "execution_count": 16,
     "metadata": {},
     "output_type": "execute_result"
    }
   ],
   "source": [
    "gradient_checking(X_train, y_train, model)"
   ]
  },
  {
   "cell_type": "markdown",
   "id": "65ea5d47",
   "metadata": {},
   "source": [
    "# Notes/Drafts"
   ]
  },
  {
   "cell_type": "markdown",
   "id": "3f71ab14",
   "metadata": {},
   "source": [
    "Hyperparameters:\n",
    "* learning rate $\\alpha$\n",
    "* number of iterations\n",
    "* number of hidden layers L\n",
    "* number of hidden units $n^{[1]}, ..., n^{[L]}$\n",
    "* activation function choices\n",
    "* loss function\n",
    "* regularization:\n",
    "    * L2\n",
    "    * dropout\n",
    "    * early stopping\n",
    "    * data augmentation\n",
    "\n",
    "Others yet to implement:\n",
    "* momentum\n",
    "* minibatch size\n",
    "* learning rate decay\n",
    "\n",
    "Lower down in importance but can potentially tune:\n",
    "* standard deviation of weight initializations"
   ]
  }
 ],
 "metadata": {
  "kernelspec": {
   "display_name": "Python 3 (ipykernel)",
   "language": "python",
   "name": "python3"
  },
  "language_info": {
   "codemirror_mode": {
    "name": "ipython",
    "version": 3
   },
   "file_extension": ".py",
   "mimetype": "text/x-python",
   "name": "python",
   "nbconvert_exporter": "python",
   "pygments_lexer": "ipython3",
   "version": "3.9.7"
  }
 },
 "nbformat": 4,
 "nbformat_minor": 5
}
